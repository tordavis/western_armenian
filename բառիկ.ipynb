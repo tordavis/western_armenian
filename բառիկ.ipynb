{
 "cells": [
  {
   "cell_type": "code",
   "execution_count": 1,
   "id": "a55df7a7-87c1-4caa-8142-351c39cd5e2e",
   "metadata": {},
   "outputs": [],
   "source": [
    "# import packages\n",
    "import string\n",
    "import copy\n",
    "import re\n",
    "import pandas as pd\n",
    "import numpy as np\n",
    "\n",
    "pd.options.mode.chained_assignment = None  # default='warn'%"
   ]
  },
  {
   "cell_type": "code",
   "execution_count": 40,
   "id": "fcaffeee-f805-4b2d-8ccf-573982550805",
   "metadata": {},
   "outputs": [],
   "source": [
    "import enum\n",
    "\n",
    "class Tip(enum.Enum):\n",
    "    ABSENT = 0\n",
    "    PRESENT = 1\n",
    "    CORRECT = 2"
   ]
  },
  {
   "cell_type": "code",
   "execution_count": 41,
   "id": "55c67b4e-386f-456f-b7e8-7a48581d9d52",
   "metadata": {},
   "outputs": [],
   "source": [
    "def score(secret, guess):\n",
    "    # All characters that are not correct go into the usable pool.\n",
    "    pool = collections.Counter(s for s, g in zip(secret, guess) if s != g)\n",
    "    # Create a first tentative score by comparing char by char.\n",
    "    score = []\n",
    "    for secret_char, guess_char in zip(secret, guess):\n",
    "        if secret_char == guess_char:\n",
    "            score.append(Tip.CORRECT)\n",
    "        elif guess_char in secret and pool[guess_char] > 0:\n",
    "            score.append(Tip.PRESENT)\n",
    "            pool[guess_char] -= 1\n",
    "        else:\n",
    "            score.append(Tip.ABSENT)\n",
    "\n",
    "    return score"
   ]
  },
  {
   "cell_type": "code",
   "execution_count": 2,
   "id": "addd7945-1f04-4079-8bda-bcf98505e313",
   "metadata": {},
   "outputs": [
    {
     "data": {
      "text/html": [
       "<div>\n",
       "<style scoped>\n",
       "    .dataframe tbody tr th:only-of-type {\n",
       "        vertical-align: middle;\n",
       "    }\n",
       "\n",
       "    .dataframe tbody tr th {\n",
       "        vertical-align: top;\n",
       "    }\n",
       "\n",
       "    .dataframe thead th {\n",
       "        text-align: right;\n",
       "    }\n",
       "</style>\n",
       "<table border=\"1\" class=\"dataframe\">\n",
       "  <thead>\n",
       "    <tr style=\"text-align: right;\">\n",
       "      <th></th>\n",
       "      <th>category</th>\n",
       "      <th>subcategory</th>\n",
       "      <th>english word</th>\n",
       "      <th>հայերէնի բար</th>\n",
       "      <th>pronounciation</th>\n",
       "      <th>lesson</th>\n",
       "    </tr>\n",
       "  </thead>\n",
       "  <tbody>\n",
       "    <tr>\n",
       "      <th>0</th>\n",
       "      <td>food</td>\n",
       "      <td>drinks</td>\n",
       "      <td>tea</td>\n",
       "      <td>թէյ</td>\n",
       "      <td>tey</td>\n",
       "      <td>6.0</td>\n",
       "    </tr>\n",
       "    <tr>\n",
       "      <th>1</th>\n",
       "      <td>things</td>\n",
       "      <td>music</td>\n",
       "      <td>song</td>\n",
       "      <td>երգ</td>\n",
       "      <td>yerk</td>\n",
       "      <td>7.0</td>\n",
       "    </tr>\n",
       "    <tr>\n",
       "      <th>2</th>\n",
       "      <td>food</td>\n",
       "      <td>drinks</td>\n",
       "      <td>coffee</td>\n",
       "      <td>սուրճ</td>\n",
       "      <td>soorj</td>\n",
       "      <td>4.0</td>\n",
       "    </tr>\n",
       "    <tr>\n",
       "      <th>3</th>\n",
       "      <td>food</td>\n",
       "      <td>drinks</td>\n",
       "      <td>wine</td>\n",
       "      <td>գինի</td>\n",
       "      <td>kini</td>\n",
       "      <td>6.0</td>\n",
       "    </tr>\n",
       "    <tr>\n",
       "      <th>4</th>\n",
       "      <td>food</td>\n",
       "      <td>drinks</td>\n",
       "      <td>herbal tea</td>\n",
       "      <td>խոտաբոյսերու թէյ</td>\n",
       "      <td>khodapooyserov tey</td>\n",
       "      <td>7.0</td>\n",
       "    </tr>\n",
       "  </tbody>\n",
       "</table>\n",
       "</div>"
      ],
      "text/plain": [
       "  category subcategory english word      հայերէնի բար      pronounciation  \\\n",
       "0     food      drinks          tea               թէյ                 tey   \n",
       "1   things       music         song               երգ                yerk   \n",
       "2     food      drinks       coffee             սուրճ               soorj   \n",
       "3     food      drinks         wine              գինի                kini   \n",
       "4     food      drinks   herbal tea  խոտաբոյսերու թէյ  khodapooyserov tey   \n",
       "\n",
       "   lesson  \n",
       "0     6.0  \n",
       "1     7.0  \n",
       "2     4.0  \n",
       "3     6.0  \n",
       "4     7.0  "
      ]
     },
     "execution_count": 2,
     "metadata": {},
     "output_type": "execute_result"
    }
   ],
   "source": [
    "# read in existing western armenian dictionary\n",
    "words_df = pd.read_csv('western_armenian_words.csv')\n",
    "words_df.head()"
   ]
  },
  {
   "cell_type": "code",
   "execution_count": 3,
   "id": "29a7677e-c08e-4fdb-992f-96da9057d5ee",
   "metadata": {},
   "outputs": [],
   "source": [
    "aypoopen_upper = ['Ա','Բ','Գ','Դ','Ե','Զ','Է','Ը','Թ','Ժ','Ի','Լ','Խ','Ծ','Կ','Հ','Ձ','Ղ','Ճ','Մ','Յ','Ն','Շ','Ո','Չ','Պ','Ջ','Ռ','Ս','Վ','Տ','Ր','Ց','Ւ','Փ','Ք','Օ','Ֆ','և']\n",
    "aypoopen_lower = ['ա','բ','գ','դ','ե','զ','է','ը','թ','ժ','ի','լ','խ','ծ','կ','հ','ձ','ղ','ճ','մ','յ','ն','շ','ո','չ','պ','ջ','ռ','ս','վ','տ','ր','ց','ւ','փ','ք','օ','ֆ','և']\n",
    "\n",
    "aypoopen_dict = {aypoopen_lower[i]: aypoopen_upper[i] for i in range(len(aypoopen_lower))}"
   ]
  },
  {
   "cell_type": "code",
   "execution_count": 4,
   "id": "372df3e0-a0e5-47f4-a9bc-44a17a31cdd8",
   "metadata": {},
   "outputs": [],
   "source": [
    "def caps(df):\n",
    "    df['հայերէնի բար'] = df['հայերէնի բար'].replace(aypoopen_dict, regex=True)\n",
    "    return df"
   ]
  },
  {
   "cell_type": "code",
   "execution_count": 5,
   "id": "1b39cd5a-f4d5-461f-9770-7c9de247a92c",
   "metadata": {},
   "outputs": [
    {
     "data": {
      "text/html": [
       "<div>\n",
       "<style scoped>\n",
       "    .dataframe tbody tr th:only-of-type {\n",
       "        vertical-align: middle;\n",
       "    }\n",
       "\n",
       "    .dataframe tbody tr th {\n",
       "        vertical-align: top;\n",
       "    }\n",
       "\n",
       "    .dataframe thead th {\n",
       "        text-align: right;\n",
       "    }\n",
       "</style>\n",
       "<table border=\"1\" class=\"dataframe\">\n",
       "  <thead>\n",
       "    <tr style=\"text-align: right;\">\n",
       "      <th></th>\n",
       "      <th>հայերէնի բար</th>\n",
       "      <th>english word</th>\n",
       "      <th>1l</th>\n",
       "      <th>2l</th>\n",
       "      <th>3l</th>\n",
       "      <th>4l</th>\n",
       "      <th>5l</th>\n",
       "    </tr>\n",
       "  </thead>\n",
       "  <tbody>\n",
       "    <tr>\n",
       "      <th>410</th>\n",
       "      <td>ԱԿԱՆՋ</td>\n",
       "      <td>ear</td>\n",
       "      <td>Ա</td>\n",
       "      <td>Կ</td>\n",
       "      <td>Ա</td>\n",
       "      <td>Ն</td>\n",
       "      <td>Ջ</td>\n",
       "    </tr>\n",
       "    <tr>\n",
       "      <th>450</th>\n",
       "      <td>ԱԿՆՈՑ</td>\n",
       "      <td>glasses</td>\n",
       "      <td>Ա</td>\n",
       "      <td>Կ</td>\n",
       "      <td>Ն</td>\n",
       "      <td>Ո</td>\n",
       "      <td>Ց</td>\n",
       "    </tr>\n",
       "    <tr>\n",
       "      <th>76</th>\n",
       "      <td>ԱՂՋԻԿ</td>\n",
       "      <td>girl</td>\n",
       "      <td>Ա</td>\n",
       "      <td>Ղ</td>\n",
       "      <td>Ջ</td>\n",
       "      <td>Ի</td>\n",
       "      <td>Կ</td>\n",
       "    </tr>\n",
       "    <tr>\n",
       "      <th>658</th>\n",
       "      <td>ԱՂՏՈՏ</td>\n",
       "      <td>dirty</td>\n",
       "      <td>Ա</td>\n",
       "      <td>Ղ</td>\n",
       "      <td>Տ</td>\n",
       "      <td>Ո</td>\n",
       "      <td>Տ</td>\n",
       "    </tr>\n",
       "    <tr>\n",
       "      <th>356</th>\n",
       "      <td>ԱՄԵՆԱ</td>\n",
       "      <td>most</td>\n",
       "      <td>Ա</td>\n",
       "      <td>Մ</td>\n",
       "      <td>Ե</td>\n",
       "      <td>Ն</td>\n",
       "      <td>Ա</td>\n",
       "    </tr>\n",
       "  </tbody>\n",
       "</table>\n",
       "</div>"
      ],
      "text/plain": [
       "    հայերէնի բար english word 1l 2l 3l 4l 5l\n",
       "410        ԱԿԱՆՋ          ear  Ա  Կ  Ա  Ն  Ջ\n",
       "450        ԱԿՆՈՑ      glasses  Ա  Կ  Ն  Ո  Ց\n",
       "76         ԱՂՋԻԿ         girl  Ա  Ղ  Ջ  Ի  Կ\n",
       "658        ԱՂՏՈՏ        dirty  Ա  Ղ  Տ  Ո  Տ\n",
       "356        ԱՄԵՆԱ         most  Ա  Մ  Ե  Ն  Ա"
      ]
     },
     "execution_count": 5,
     "metadata": {},
     "output_type": "execute_result"
    }
   ],
   "source": [
    "# keep only the armenian words and the english translation\n",
    "hay_df = words_df[['հայերէնի բար', 'english word']]\n",
    "# keep only 5 character words\n",
    "five_df = hay_df.loc[hay_df['հայերէնի բար'].str.len() == 5]\n",
    "# remove words with non-letter characters\n",
    "non_letter_df = five_df[~five_df['հայերէնի բար'].str.contains('։|՞|-')]\n",
    "# make all characters capital\n",
    "caps_df = caps(non_letter_df)\n",
    "# get letters in each position\n",
    "clean_df = caps_df\n",
    "letter_pos = ['1l','2l','3l','4l','5l']\n",
    "clean_df[letter_pos] = caps_df['հայերէնի բար'].str.split('',expand=True).iloc[:, 1:-1]\n",
    "parig_df = clean_df.sort_values('հայերէնի բար')\n",
    "parig_df.head()"
   ]
  },
  {
   "cell_type": "code",
   "execution_count": 26,
   "id": "c5a95bbb",
   "metadata": {},
   "outputs": [
    {
     "name": "stdin",
     "output_type": "stream",
     "text": [
      "Please enter your guess:  aveli\n"
     ]
    },
    {
     "name": "stdout",
     "output_type": "stream",
     "text": [
      "That word is not in armenian. Try again\n"
     ]
    },
    {
     "name": "stdin",
     "output_type": "stream",
     "text": [
      "Please enter your guess:  avel\n"
     ]
    },
    {
     "name": "stdout",
     "output_type": "stream",
     "text": [
      "Please enter 5 characters\n"
     ]
    },
    {
     "name": "stdin",
     "output_type": "stream",
     "text": [
      "Please enter your guess:  աւելի\n"
     ]
    },
    {
     "name": "stdout",
     "output_type": "stream",
     "text": [
      "Guess accepted\n"
     ]
    }
   ],
   "source": [
    "valid = False\n",
    "\n",
    "while valid == False:\n",
    "    count = 0\n",
    "    guess = list(input(\"Please enter your guess: \"))\n",
    "    if len(guess) != 5:       \n",
    "        print ('Please enter 5 characters')\n",
    "    else:\n",
    "        for x in guess:\n",
    "            if x in aypoopen_upper or x in aypoopen_lower:\n",
    "                count += 1\n",
    "            else:\n",
    "                print('That word is not in armenian. Try again')\n",
    "                break\n",
    "        if count == 5:\n",
    "            valid = True\n",
    "            print('Guess accepted')"
   ]
  },
  {
   "cell_type": "code",
   "execution_count": 38,
   "id": "829323c9-8ab0-4f1f-be4f-4e51ccb2917d",
   "metadata": {},
   "outputs": [],
   "source": [
    "res = ''.join([aypoopen_dict.get(i, i) for i in list(guess)])\n",
    "letter1, letter2, letter3, letter4, letter5 = list(res)"
   ]
  },
  {
   "cell_type": "code",
   "execution_count": 39,
   "id": "352bcf8c-4d77-4244-a030-e4adb3c3461a",
   "metadata": {},
   "outputs": [
    {
     "data": {
      "text/plain": [
       "'Ա'"
      ]
     },
     "execution_count": 39,
     "metadata": {},
     "output_type": "execute_result"
    }
   ],
   "source": [
    "guess_df = parig_df[parig_df['հայերէնի բար'].str.contains()]"
   ]
  },
  {
   "cell_type": "code",
   "execution_count": 42,
   "id": "93f64c86-42ad-4037-8cc3-ebabef33083a",
   "metadata": {},
   "outputs": [],
   "source": [
    "# https://www.inspiredpython.com/article/solving-wordle-puzzles-with-basic-python\n",
    "\n",
    "def input_response():\n",
    "    print(\"Type the color-coded reply from Wordle:\")\n",
    "    print(\"  G for Green\")\n",
    "    print(\"  Y for Yellow\")\n",
    "    print(\"  ? for Gray\")\n",
    "    while True:\n",
    "        response = input(\"Response from Wordle> \")\n",
    "        if len(response) == WORD_LENGTH and set(response) <= {\"G\", \"Y\", \"?\"}:\n",
    "            break\n",
    "        else:\n",
    "            print(f\"Error - invalid answer {response}\")\n",
    "    return response"
   ]
  },
  {
   "cell_type": "code",
   "execution_count": null,
   "id": "b1aa0c5d-343e-4c79-b843-91f8f11ad2f0",
   "metadata": {},
   "outputs": [],
   "source": [
    "def match_word_vector(word, word_vector):\n",
    "    assert len(word) == len(word_vector)\n",
    "    for letter, v_letter in zip(word, word_vector):\n",
    "        if letter not in v_letter:\n",
    "            return False\n",
    "    return True"
   ]
  }
 ],
 "metadata": {
  "kernelspec": {
   "display_name": "Python 3 (ipykernel)",
   "language": "python",
   "name": "python3"
  },
  "language_info": {
   "codemirror_mode": {
    "name": "ipython",
    "version": 3
   },
   "file_extension": ".py",
   "mimetype": "text/x-python",
   "name": "python",
   "nbconvert_exporter": "python",
   "pygments_lexer": "ipython3",
   "version": "3.10.9"
  }
 },
 "nbformat": 4,
 "nbformat_minor": 5
}
